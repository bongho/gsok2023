{
 "cells": [
  {
   "cell_type": "code",
   "execution_count": 60,
   "metadata": {
    "ExecuteTime": {
     "end_time": "2024-04-05T12:39:27.931217Z",
     "start_time": "2024-04-05T12:39:26.072740Z"
    }
   },
   "outputs": [],
   "source": [
    "import pandas as pd\n",
    "import re\n",
    "from sklearn.feature_extraction.text import TfidfVectorizer, CountVectorizer\n",
    "# from pecab import PeCab\n",
    "from konlpy.tag import Okt\n",
    "import matplotlib.pyplot as plt\n",
    "from tqdm import tqdm"
   ]
  },
  {
   "cell_type": "code",
   "execution_count": 9,
   "metadata": {
    "ExecuteTime": {
     "end_time": "2024-04-05T11:52:08.775754Z",
     "start_time": "2024-04-05T11:52:08.640996Z"
    }
   },
   "outputs": [
    {
     "name": "stdout",
     "output_type": "stream",
     "text": [
      "(31347, 6)\n"
     ]
    },
    {
     "data": {
      "text/plain": "                                                URL              Date  \\\n0  https://www.inven.co.kr/board/maple/5974/2150813  2023-08-01 00:00   \n1  https://www.inven.co.kr/board/maple/5974/2150814  2023-08-01 00:00   \n2  https://www.inven.co.kr/board/maple/5974/2150815  2023-08-01 00:00   \n3  https://www.inven.co.kr/board/maple/5974/2150816  2023-08-01 00:00   \n4  https://www.inven.co.kr/board/maple/5974/2150817  2023-08-01 00:00   \n\n                                            Reaction      std_dt  Length  \\\n0  익몬 파티짜면 좀 미안하네  다 받아서 갔다가 극딜인가 까지 가서 고통받은 기억 이...  2023-08-01      94   \n1  걍 중나생문 이새끼가  개새끼임 스타포스작윗잠아랫잠추옵이게 다 고려되니까 템값이 비...  2023-08-01      77   \n2                                호호호호 똥글 이나 보세요 밥련드라  2023-08-01      19   \n3  스토리 칼로스 뭔데 이리 쎄냐 당연히 스토리니까 자빱이겠지하고 사냥셋팅 그대로 갔는...  2023-08-01     103   \n4       솔직히 가장 만렙 빠르게 찍을 것 같은 녀석 주스만 마시고 은 족히 넘겼을 녀석  2023-08-01      44   \n\n                                       Reaction_noun  \n0  ['파티', '미안', '극', '딜', '까지', '고통', '기억', '이후',...  \n1  ['중', '생문', '새끼', '개새끼', '스타', '포스', '잠아', '랫'...  \n2                               ['똥', '글', '밥', '련']  \n3  ['스토리', '칼로스', '뭔데', '스토리', '사냥', '셋', '극', '딜...  \n4                      ['만렙', '것', '녀석', '주스', '녀석']  ",
      "text/html": "<div>\n<style scoped>\n    .dataframe tbody tr th:only-of-type {\n        vertical-align: middle;\n    }\n\n    .dataframe tbody tr th {\n        vertical-align: top;\n    }\n\n    .dataframe thead th {\n        text-align: right;\n    }\n</style>\n<table border=\"1\" class=\"dataframe\">\n  <thead>\n    <tr style=\"text-align: right;\">\n      <th></th>\n      <th>URL</th>\n      <th>Date</th>\n      <th>Reaction</th>\n      <th>std_dt</th>\n      <th>Length</th>\n      <th>Reaction_noun</th>\n    </tr>\n  </thead>\n  <tbody>\n    <tr>\n      <th>0</th>\n      <td>https://www.inven.co.kr/board/maple/5974/2150813</td>\n      <td>2023-08-01 00:00</td>\n      <td>익몬 파티짜면 좀 미안하네  다 받아서 갔다가 극딜인가 까지 가서 고통받은 기억 이...</td>\n      <td>2023-08-01</td>\n      <td>94</td>\n      <td>['파티', '미안', '극', '딜', '까지', '고통', '기억', '이후',...</td>\n    </tr>\n    <tr>\n      <th>1</th>\n      <td>https://www.inven.co.kr/board/maple/5974/2150814</td>\n      <td>2023-08-01 00:00</td>\n      <td>걍 중나생문 이새끼가  개새끼임 스타포스작윗잠아랫잠추옵이게 다 고려되니까 템값이 비...</td>\n      <td>2023-08-01</td>\n      <td>77</td>\n      <td>['중', '생문', '새끼', '개새끼', '스타', '포스', '잠아', '랫'...</td>\n    </tr>\n    <tr>\n      <th>2</th>\n      <td>https://www.inven.co.kr/board/maple/5974/2150815</td>\n      <td>2023-08-01 00:00</td>\n      <td>호호호호 똥글 이나 보세요 밥련드라</td>\n      <td>2023-08-01</td>\n      <td>19</td>\n      <td>['똥', '글', '밥', '련']</td>\n    </tr>\n    <tr>\n      <th>3</th>\n      <td>https://www.inven.co.kr/board/maple/5974/2150816</td>\n      <td>2023-08-01 00:00</td>\n      <td>스토리 칼로스 뭔데 이리 쎄냐 당연히 스토리니까 자빱이겠지하고 사냥셋팅 그대로 갔는...</td>\n      <td>2023-08-01</td>\n      <td>103</td>\n      <td>['스토리', '칼로스', '뭔데', '스토리', '사냥', '셋', '극', '딜...</td>\n    </tr>\n    <tr>\n      <th>4</th>\n      <td>https://www.inven.co.kr/board/maple/5974/2150817</td>\n      <td>2023-08-01 00:00</td>\n      <td>솔직히 가장 만렙 빠르게 찍을 것 같은 녀석 주스만 마시고 은 족히 넘겼을 녀석</td>\n      <td>2023-08-01</td>\n      <td>44</td>\n      <td>['만렙', '것', '녀석', '주스', '녀석']</td>\n    </tr>\n  </tbody>\n</table>\n</div>"
     },
     "execution_count": 9,
     "metadata": {},
     "output_type": "execute_result"
    }
   ],
   "source": [
    "# df.to_csv(\"230815-MaplyStory-Noun.csv\", index=False)\n",
    "df = pd.read_csv(\"230815-MaplyStory-Noun.csv\")\n",
    "print(df.shape)\n",
    "df.head()"
   ]
  },
  {
   "cell_type": "code",
   "outputs": [],
   "source": [
    "# Reaction Noun 컬럼 삭제\n",
    "df.drop('Reaction_noun', axis=1, inplace=True)"
   ],
   "metadata": {
    "collapsed": false,
    "ExecuteTime": {
     "end_time": "2024-04-05T11:52:09.110831Z",
     "start_time": "2024-04-05T11:52:09.107179Z"
    }
   },
   "execution_count": 10
  },
  {
   "cell_type": "code",
   "execution_count": 11,
   "metadata": {
    "ExecuteTime": {
     "end_time": "2024-04-05T11:52:09.460169Z",
     "start_time": "2024-04-05T11:52:09.450855Z"
    }
   },
   "outputs": [
    {
     "data": {
      "text/plain": "                                                URL              Date  \\\n0  https://www.inven.co.kr/board/maple/5974/2150813  2023-08-01 00:00   \n1  https://www.inven.co.kr/board/maple/5974/2150814  2023-08-01 00:00   \n2  https://www.inven.co.kr/board/maple/5974/2150815  2023-08-01 00:00   \n3  https://www.inven.co.kr/board/maple/5974/2150816  2023-08-01 00:00   \n4  https://www.inven.co.kr/board/maple/5974/2150817  2023-08-01 00:00   \n\n                                            Reaction      std_dt  Length  \n0  익몬 파티짜면 좀 미안하네  다 받아서 갔다가 극딜인가 까지 가서 고통받은 기억 이...  2023-08-01      94  \n1  걍 중나생문 이새끼가  개새끼임 스타포스작윗잠아랫잠추옵이게 다 고려되니까 템값이 비...  2023-08-01      77  \n2                                호호호호 똥글 이나 보세요 밥련드라  2023-08-01      19  \n3  스토리 칼로스 뭔데 이리 쎄냐 당연히 스토리니까 자빱이겠지하고 사냥셋팅 그대로 갔는...  2023-08-01     103  \n4       솔직히 가장 만렙 빠르게 찍을 것 같은 녀석 주스만 마시고 은 족히 넘겼을 녀석  2023-08-01      44  ",
      "text/html": "<div>\n<style scoped>\n    .dataframe tbody tr th:only-of-type {\n        vertical-align: middle;\n    }\n\n    .dataframe tbody tr th {\n        vertical-align: top;\n    }\n\n    .dataframe thead th {\n        text-align: right;\n    }\n</style>\n<table border=\"1\" class=\"dataframe\">\n  <thead>\n    <tr style=\"text-align: right;\">\n      <th></th>\n      <th>URL</th>\n      <th>Date</th>\n      <th>Reaction</th>\n      <th>std_dt</th>\n      <th>Length</th>\n    </tr>\n  </thead>\n  <tbody>\n    <tr>\n      <th>0</th>\n      <td>https://www.inven.co.kr/board/maple/5974/2150813</td>\n      <td>2023-08-01 00:00</td>\n      <td>익몬 파티짜면 좀 미안하네  다 받아서 갔다가 극딜인가 까지 가서 고통받은 기억 이...</td>\n      <td>2023-08-01</td>\n      <td>94</td>\n    </tr>\n    <tr>\n      <th>1</th>\n      <td>https://www.inven.co.kr/board/maple/5974/2150814</td>\n      <td>2023-08-01 00:00</td>\n      <td>걍 중나생문 이새끼가  개새끼임 스타포스작윗잠아랫잠추옵이게 다 고려되니까 템값이 비...</td>\n      <td>2023-08-01</td>\n      <td>77</td>\n    </tr>\n    <tr>\n      <th>2</th>\n      <td>https://www.inven.co.kr/board/maple/5974/2150815</td>\n      <td>2023-08-01 00:00</td>\n      <td>호호호호 똥글 이나 보세요 밥련드라</td>\n      <td>2023-08-01</td>\n      <td>19</td>\n    </tr>\n    <tr>\n      <th>3</th>\n      <td>https://www.inven.co.kr/board/maple/5974/2150816</td>\n      <td>2023-08-01 00:00</td>\n      <td>스토리 칼로스 뭔데 이리 쎄냐 당연히 스토리니까 자빱이겠지하고 사냥셋팅 그대로 갔는...</td>\n      <td>2023-08-01</td>\n      <td>103</td>\n    </tr>\n    <tr>\n      <th>4</th>\n      <td>https://www.inven.co.kr/board/maple/5974/2150817</td>\n      <td>2023-08-01 00:00</td>\n      <td>솔직히 가장 만렙 빠르게 찍을 것 같은 녀석 주스만 마시고 은 족히 넘겼을 녀석</td>\n      <td>2023-08-01</td>\n      <td>44</td>\n    </tr>\n  </tbody>\n</table>\n</div>"
     },
     "execution_count": 11,
     "metadata": {},
     "output_type": "execute_result"
    }
   ],
   "source": [
    "df['Reaction'] = df['Reaction'].str.replace('[^가-힣 ]', '')\n",
    "df.head()"
   ]
  },
  {
   "cell_type": "code",
   "execution_count": 12,
   "metadata": {
    "ExecuteTime": {
     "end_time": "2024-04-05T11:52:10.490517Z",
     "start_time": "2024-04-05T11:52:10.474770Z"
    }
   },
   "outputs": [],
   "source": [
    "df['Length'] = df['Reaction'].str.len()\n",
    "df = df[df['Length'] > 1]"
   ]
  },
  {
   "cell_type": "code",
   "execution_count": 15,
   "metadata": {
    "ExecuteTime": {
     "end_time": "2024-04-05T11:54:39.077460Z",
     "start_time": "2024-04-05T11:54:37.965450Z"
    }
   },
   "outputs": [],
   "source": [
    "okt = Okt()"
   ]
  },
  {
   "cell_type": "code",
   "outputs": [
    {
     "data": {
      "text/plain": "[('히어로', 'Noun'),\n ('들', 'Suffix'),\n ('이', 'Josa'),\n ('세상', 'Noun'),\n ('에', 'Josa'),\n ('존재', 'Noun'),\n ('하지', 'Verb'),\n ('않는다는', 'Verb'),\n ('사실', 'Noun'),\n ('을', 'Josa'),\n ('깨달', 'Noun'),\n ('은', 'Josa'),\n ('것', 'Noun'),\n ('은', 'Josa'),\n ('상당히', 'Adjective'),\n ('시간', 'Noun'),\n ('이', 'Josa'),\n ('지난', 'Modifier'),\n ('뒤', 'Noun'),\n ('의', 'Josa'),\n ('일', 'Noun'),\n ('이었다', 'Verb'),\n ('.', 'Punctuation')]"
     },
     "execution_count": 19,
     "metadata": {},
     "output_type": "execute_result"
    }
   ],
   "source": [
    "okt.pos(\"히어로들이 세상에 존재하지 않는다는 사실을 깨달은 것은 상당히 시간이 지난뒤의 일이었다.\")"
   ],
   "metadata": {
    "collapsed": false,
    "ExecuteTime": {
     "end_time": "2024-04-05T11:55:35.567066Z",
     "start_time": "2024-04-05T11:55:35.552251Z"
    }
   },
   "execution_count": 19
  },
  {
   "cell_type": "code",
   "outputs": [],
   "source": [
    "#okt.pos에서 Verb만 추출해서 List로 변환하는 함수 \n",
    "def cleanText(text,pos=['Verb']):\n",
    "    pos = okt.pos(text,norm = True, stem = False)\n",
    "    # tag가 verb이면, 뛰어쓰기로 하나의 Text로 연결\n",
    "    \n",
    "    verb = [word for word, tag in pos if tag in ['Verb']]\n",
    "    return verb"
   ],
   "metadata": {
    "collapsed": false,
    "ExecuteTime": {
     "end_time": "2024-04-05T12:28:29.408998Z",
     "start_time": "2024-04-05T12:28:29.405445Z"
    }
   },
   "execution_count": 49
  },
  {
   "cell_type": "markdown",
   "source": [],
   "metadata": {
    "collapsed": false
   }
  },
  {
   "cell_type": "code",
   "outputs": [
    {
     "data": {
      "text/plain": "                                                URL              Date  \\\n0  https://www.inven.co.kr/board/maple/5974/2150813  2023-08-01 00:00   \n1  https://www.inven.co.kr/board/maple/5974/2150814  2023-08-01 00:00   \n2  https://www.inven.co.kr/board/maple/5974/2150815  2023-08-01 00:00   \n3  https://www.inven.co.kr/board/maple/5974/2150816  2023-08-01 00:00   \n4  https://www.inven.co.kr/board/maple/5974/2150817  2023-08-01 00:00   \n\n                                            Reaction      std_dt  Length  \\\n0  익몬 파티짜면 좀 미안하네  다 받아서 갔다가 극딜인가 까지 가서 고통받은 기억 이...  2023-08-01      94   \n1  걍 중나생문 이새끼가  개새끼임 스타포스작윗잠아랫잠추옵이게 다 고려되니까 템값이 비...  2023-08-01      77   \n2                                호호호호 똥글 이나 보세요 밥련드라  2023-08-01      19   \n3  스토리 칼로스 뭔데 이리 쎄냐 당연히 스토리니까 자빱이겠지하고 사냥셋팅 그대로 갔는...  2023-08-01     103   \n4       솔직히 가장 만렙 빠르게 찍을 것 같은 녀석 주스만 마시고 은 족히 넘겼을 녀석  2023-08-01      44   \n\n                                  Reaction_verb  \n0            [짜면, 받아서, 갔다가, 가서, 받은, 하는, 대, 하는데]  \n1                         [옵이게, 되니까, 였어도, 나왔을듯]  \n2                                         [보세요]  \n3  [겠지하고, 갔는데, 달더라, 쓸, 하다가, 바꿔서, 쳐야겠다, 싶어서, 나옴]  \n4                                    [마시고, 넘겼을]  ",
      "text/html": "<div>\n<style scoped>\n    .dataframe tbody tr th:only-of-type {\n        vertical-align: middle;\n    }\n\n    .dataframe tbody tr th {\n        vertical-align: top;\n    }\n\n    .dataframe thead th {\n        text-align: right;\n    }\n</style>\n<table border=\"1\" class=\"dataframe\">\n  <thead>\n    <tr style=\"text-align: right;\">\n      <th></th>\n      <th>URL</th>\n      <th>Date</th>\n      <th>Reaction</th>\n      <th>std_dt</th>\n      <th>Length</th>\n      <th>Reaction_verb</th>\n    </tr>\n  </thead>\n  <tbody>\n    <tr>\n      <th>0</th>\n      <td>https://www.inven.co.kr/board/maple/5974/2150813</td>\n      <td>2023-08-01 00:00</td>\n      <td>익몬 파티짜면 좀 미안하네  다 받아서 갔다가 극딜인가 까지 가서 고통받은 기억 이...</td>\n      <td>2023-08-01</td>\n      <td>94</td>\n      <td>[짜면, 받아서, 갔다가, 가서, 받은, 하는, 대, 하는데]</td>\n    </tr>\n    <tr>\n      <th>1</th>\n      <td>https://www.inven.co.kr/board/maple/5974/2150814</td>\n      <td>2023-08-01 00:00</td>\n      <td>걍 중나생문 이새끼가  개새끼임 스타포스작윗잠아랫잠추옵이게 다 고려되니까 템값이 비...</td>\n      <td>2023-08-01</td>\n      <td>77</td>\n      <td>[옵이게, 되니까, 였어도, 나왔을듯]</td>\n    </tr>\n    <tr>\n      <th>2</th>\n      <td>https://www.inven.co.kr/board/maple/5974/2150815</td>\n      <td>2023-08-01 00:00</td>\n      <td>호호호호 똥글 이나 보세요 밥련드라</td>\n      <td>2023-08-01</td>\n      <td>19</td>\n      <td>[보세요]</td>\n    </tr>\n    <tr>\n      <th>3</th>\n      <td>https://www.inven.co.kr/board/maple/5974/2150816</td>\n      <td>2023-08-01 00:00</td>\n      <td>스토리 칼로스 뭔데 이리 쎄냐 당연히 스토리니까 자빱이겠지하고 사냥셋팅 그대로 갔는...</td>\n      <td>2023-08-01</td>\n      <td>103</td>\n      <td>[겠지하고, 갔는데, 달더라, 쓸, 하다가, 바꿔서, 쳐야겠다, 싶어서, 나옴]</td>\n    </tr>\n    <tr>\n      <th>4</th>\n      <td>https://www.inven.co.kr/board/maple/5974/2150817</td>\n      <td>2023-08-01 00:00</td>\n      <td>솔직히 가장 만렙 빠르게 찍을 것 같은 녀석 주스만 마시고 은 족히 넘겼을 녀석</td>\n      <td>2023-08-01</td>\n      <td>44</td>\n      <td>[마시고, 넘겼을]</td>\n    </tr>\n  </tbody>\n</table>\n</div>"
     },
     "execution_count": 38,
     "metadata": {},
     "output_type": "execute_result"
    }
   ],
   "source": [
    "df['Reaction_verb'] = df.Reaction.apply(lambda x: cleanText(x))\n",
    "df.head()"
   ],
   "metadata": {
    "collapsed": false,
    "ExecuteTime": {
     "end_time": "2024-04-05T12:16:19.685046Z",
     "start_time": "2024-04-05T12:14:34.801747Z"
    }
   },
   "execution_count": 38
  },
  {
   "cell_type": "code",
   "outputs": [
    {
     "data": {
      "text/plain": "                                                URL              Date  \\\n0  https://www.inven.co.kr/board/maple/5974/2150813  2023-08-01 00:00   \n1  https://www.inven.co.kr/board/maple/5974/2150814  2023-08-01 00:00   \n2  https://www.inven.co.kr/board/maple/5974/2150815  2023-08-01 00:00   \n3  https://www.inven.co.kr/board/maple/5974/2150816  2023-08-01 00:00   \n4  https://www.inven.co.kr/board/maple/5974/2150817  2023-08-01 00:00   \n\n                                            Reaction      std_dt  Length  \\\n0  익몬 파티짜면 좀 미안하네  다 받아서 갔다가 극딜인가 까지 가서 고통받은 기억 이...  2023-08-01      94   \n1  걍 중나생문 이새끼가  개새끼임 스타포스작윗잠아랫잠추옵이게 다 고려되니까 템값이 비...  2023-08-01      77   \n2                                호호호호 똥글 이나 보세요 밥련드라  2023-08-01      19   \n3  스토리 칼로스 뭔데 이리 쎄냐 당연히 스토리니까 자빱이겠지하고 사냥셋팅 그대로 갔는...  2023-08-01     103   \n4       솔직히 가장 만렙 빠르게 찍을 것 같은 녀석 주스만 마시고 은 족히 넘겼을 녀석  2023-08-01      44   \n\n                                  Reaction_verb  \\\n0            [짜면, 받아서, 갔다가, 가서, 받은, 하는, 대, 하는데]   \n1                         [옵이게, 되니까, 였어도, 나왔을듯]   \n2                                         [보세요]   \n3  [겠지하고, 갔는데, 달더라, 쓸, 하다가, 바꿔서, 쳐야겠다, 싶어서, 나옴]   \n4                                    [마시고, 넘겼을]   \n\n                 Reaction_verb_concat  \n0           짜면 받아서 갔다가 가서 받은 하는 대 하는데  \n1                    옵이게 되니까 였어도 나왔을듯  \n2                                 보세요  \n3  겠지하고 갔는데 달더라 쓸 하다가 바꿔서 쳐야겠다 싶어서 나옴  \n4                             마시고 넘겼을  ",
      "text/html": "<div>\n<style scoped>\n    .dataframe tbody tr th:only-of-type {\n        vertical-align: middle;\n    }\n\n    .dataframe tbody tr th {\n        vertical-align: top;\n    }\n\n    .dataframe thead th {\n        text-align: right;\n    }\n</style>\n<table border=\"1\" class=\"dataframe\">\n  <thead>\n    <tr style=\"text-align: right;\">\n      <th></th>\n      <th>URL</th>\n      <th>Date</th>\n      <th>Reaction</th>\n      <th>std_dt</th>\n      <th>Length</th>\n      <th>Reaction_verb</th>\n      <th>Reaction_verb_concat</th>\n    </tr>\n  </thead>\n  <tbody>\n    <tr>\n      <th>0</th>\n      <td>https://www.inven.co.kr/board/maple/5974/2150813</td>\n      <td>2023-08-01 00:00</td>\n      <td>익몬 파티짜면 좀 미안하네  다 받아서 갔다가 극딜인가 까지 가서 고통받은 기억 이...</td>\n      <td>2023-08-01</td>\n      <td>94</td>\n      <td>[짜면, 받아서, 갔다가, 가서, 받은, 하는, 대, 하는데]</td>\n      <td>짜면 받아서 갔다가 가서 받은 하는 대 하는데</td>\n    </tr>\n    <tr>\n      <th>1</th>\n      <td>https://www.inven.co.kr/board/maple/5974/2150814</td>\n      <td>2023-08-01 00:00</td>\n      <td>걍 중나생문 이새끼가  개새끼임 스타포스작윗잠아랫잠추옵이게 다 고려되니까 템값이 비...</td>\n      <td>2023-08-01</td>\n      <td>77</td>\n      <td>[옵이게, 되니까, 였어도, 나왔을듯]</td>\n      <td>옵이게 되니까 였어도 나왔을듯</td>\n    </tr>\n    <tr>\n      <th>2</th>\n      <td>https://www.inven.co.kr/board/maple/5974/2150815</td>\n      <td>2023-08-01 00:00</td>\n      <td>호호호호 똥글 이나 보세요 밥련드라</td>\n      <td>2023-08-01</td>\n      <td>19</td>\n      <td>[보세요]</td>\n      <td>보세요</td>\n    </tr>\n    <tr>\n      <th>3</th>\n      <td>https://www.inven.co.kr/board/maple/5974/2150816</td>\n      <td>2023-08-01 00:00</td>\n      <td>스토리 칼로스 뭔데 이리 쎄냐 당연히 스토리니까 자빱이겠지하고 사냥셋팅 그대로 갔는...</td>\n      <td>2023-08-01</td>\n      <td>103</td>\n      <td>[겠지하고, 갔는데, 달더라, 쓸, 하다가, 바꿔서, 쳐야겠다, 싶어서, 나옴]</td>\n      <td>겠지하고 갔는데 달더라 쓸 하다가 바꿔서 쳐야겠다 싶어서 나옴</td>\n    </tr>\n    <tr>\n      <th>4</th>\n      <td>https://www.inven.co.kr/board/maple/5974/2150817</td>\n      <td>2023-08-01 00:00</td>\n      <td>솔직히 가장 만렙 빠르게 찍을 것 같은 녀석 주스만 마시고 은 족히 넘겼을 녀석</td>\n      <td>2023-08-01</td>\n      <td>44</td>\n      <td>[마시고, 넘겼을]</td>\n      <td>마시고 넘겼을</td>\n    </tr>\n  </tbody>\n</table>\n</div>"
     },
     "execution_count": 39,
     "metadata": {},
     "output_type": "execute_result"
    }
   ],
   "source": [
    "df['Reaction_verb_concat'] = df['Reaction_verb'].apply(lambda x: \" \".join(x))\n",
    "df.head()"
   ],
   "metadata": {
    "collapsed": false,
    "ExecuteTime": {
     "end_time": "2024-04-05T12:16:51.172901Z",
     "start_time": "2024-04-05T12:16:51.154544Z"
    }
   },
   "execution_count": 39
  },
  {
   "cell_type": "code",
   "outputs": [
    {
     "data": {
      "text/plain": "['짜면 받아서 갔다가 가서 받은 하는 대 하는데', '옵이게 되니까 였어도 나왔을듯', '보세요']"
     },
     "execution_count": 40,
     "metadata": {},
     "output_type": "execute_result"
    }
   ],
   "source": [
    "reactions = df['Reaction_verb_concat'].tolist()\n",
    "reactions[:3]\n"
   ],
   "metadata": {
    "collapsed": false,
    "ExecuteTime": {
     "end_time": "2024-04-05T12:17:56.189052Z",
     "start_time": "2024-04-05T12:17:56.184165Z"
    }
   },
   "execution_count": 40
  },
  {
   "cell_type": "code",
   "outputs": [],
   "source": [
    "tfidf_vectroizer = TfidfVectorizer()\n",
    "tfidf_vector = tfidf_vectroizer.fit(reactions)"
   ],
   "metadata": {
    "collapsed": false,
    "ExecuteTime": {
     "end_time": "2024-04-05T12:18:03.510551Z",
     "start_time": "2024-04-05T12:18:03.409758Z"
    }
   },
   "execution_count": 41
  },
  {
   "cell_type": "code",
   "outputs": [
    {
     "name": "stdout",
     "output_type": "stream",
     "text": [
      "(31347, 25011)\n"
     ]
    },
    {
     "data": {
      "text/plain": "   가거나   가게  가게주인이   가겠  가겠거니  가겠고  가겠냐  가겠네  가겠는데  가겠는디  ...  힘빠지니까  힘빠진다  \\\n0  0.0  0.0    0.0  0.0   0.0  0.0  0.0  0.0   0.0   0.0  ...    0.0   0.0   \n1  0.0  0.0    0.0  0.0   0.0  0.0  0.0  0.0   0.0   0.0  ...    0.0   0.0   \n2  0.0  0.0    0.0  0.0   0.0  0.0  0.0  0.0   0.0   0.0  ...    0.0   0.0   \n3  0.0  0.0    0.0  0.0   0.0  0.0  0.0  0.0   0.0   0.0  ...    0.0   0.0   \n4  0.0  0.0    0.0  0.0   0.0  0.0  0.0  0.0   0.0   0.0  ...    0.0   0.0   \n\n   힘빠진다는  힘빠짐  힘빠집니다  힘쓰는거  힘쓸거  힘주는거  힘주면   힘줘  \n0    0.0  0.0    0.0   0.0  0.0   0.0  0.0  0.0  \n1    0.0  0.0    0.0   0.0  0.0   0.0  0.0  0.0  \n2    0.0  0.0    0.0   0.0  0.0   0.0  0.0  0.0  \n3    0.0  0.0    0.0   0.0  0.0   0.0  0.0  0.0  \n4    0.0  0.0    0.0   0.0  0.0   0.0  0.0  0.0  \n\n[5 rows x 25011 columns]",
      "text/html": "<div>\n<style scoped>\n    .dataframe tbody tr th:only-of-type {\n        vertical-align: middle;\n    }\n\n    .dataframe tbody tr th {\n        vertical-align: top;\n    }\n\n    .dataframe thead th {\n        text-align: right;\n    }\n</style>\n<table border=\"1\" class=\"dataframe\">\n  <thead>\n    <tr style=\"text-align: right;\">\n      <th></th>\n      <th>가거나</th>\n      <th>가게</th>\n      <th>가게주인이</th>\n      <th>가겠</th>\n      <th>가겠거니</th>\n      <th>가겠고</th>\n      <th>가겠냐</th>\n      <th>가겠네</th>\n      <th>가겠는데</th>\n      <th>가겠는디</th>\n      <th>...</th>\n      <th>힘빠지니까</th>\n      <th>힘빠진다</th>\n      <th>힘빠진다는</th>\n      <th>힘빠짐</th>\n      <th>힘빠집니다</th>\n      <th>힘쓰는거</th>\n      <th>힘쓸거</th>\n      <th>힘주는거</th>\n      <th>힘주면</th>\n      <th>힘줘</th>\n    </tr>\n  </thead>\n  <tbody>\n    <tr>\n      <th>0</th>\n      <td>0.0</td>\n      <td>0.0</td>\n      <td>0.0</td>\n      <td>0.0</td>\n      <td>0.0</td>\n      <td>0.0</td>\n      <td>0.0</td>\n      <td>0.0</td>\n      <td>0.0</td>\n      <td>0.0</td>\n      <td>...</td>\n      <td>0.0</td>\n      <td>0.0</td>\n      <td>0.0</td>\n      <td>0.0</td>\n      <td>0.0</td>\n      <td>0.0</td>\n      <td>0.0</td>\n      <td>0.0</td>\n      <td>0.0</td>\n      <td>0.0</td>\n    </tr>\n    <tr>\n      <th>1</th>\n      <td>0.0</td>\n      <td>0.0</td>\n      <td>0.0</td>\n      <td>0.0</td>\n      <td>0.0</td>\n      <td>0.0</td>\n      <td>0.0</td>\n      <td>0.0</td>\n      <td>0.0</td>\n      <td>0.0</td>\n      <td>...</td>\n      <td>0.0</td>\n      <td>0.0</td>\n      <td>0.0</td>\n      <td>0.0</td>\n      <td>0.0</td>\n      <td>0.0</td>\n      <td>0.0</td>\n      <td>0.0</td>\n      <td>0.0</td>\n      <td>0.0</td>\n    </tr>\n    <tr>\n      <th>2</th>\n      <td>0.0</td>\n      <td>0.0</td>\n      <td>0.0</td>\n      <td>0.0</td>\n      <td>0.0</td>\n      <td>0.0</td>\n      <td>0.0</td>\n      <td>0.0</td>\n      <td>0.0</td>\n      <td>0.0</td>\n      <td>...</td>\n      <td>0.0</td>\n      <td>0.0</td>\n      <td>0.0</td>\n      <td>0.0</td>\n      <td>0.0</td>\n      <td>0.0</td>\n      <td>0.0</td>\n      <td>0.0</td>\n      <td>0.0</td>\n      <td>0.0</td>\n    </tr>\n    <tr>\n      <th>3</th>\n      <td>0.0</td>\n      <td>0.0</td>\n      <td>0.0</td>\n      <td>0.0</td>\n      <td>0.0</td>\n      <td>0.0</td>\n      <td>0.0</td>\n      <td>0.0</td>\n      <td>0.0</td>\n      <td>0.0</td>\n      <td>...</td>\n      <td>0.0</td>\n      <td>0.0</td>\n      <td>0.0</td>\n      <td>0.0</td>\n      <td>0.0</td>\n      <td>0.0</td>\n      <td>0.0</td>\n      <td>0.0</td>\n      <td>0.0</td>\n      <td>0.0</td>\n    </tr>\n    <tr>\n      <th>4</th>\n      <td>0.0</td>\n      <td>0.0</td>\n      <td>0.0</td>\n      <td>0.0</td>\n      <td>0.0</td>\n      <td>0.0</td>\n      <td>0.0</td>\n      <td>0.0</td>\n      <td>0.0</td>\n      <td>0.0</td>\n      <td>...</td>\n      <td>0.0</td>\n      <td>0.0</td>\n      <td>0.0</td>\n      <td>0.0</td>\n      <td>0.0</td>\n      <td>0.0</td>\n      <td>0.0</td>\n      <td>0.0</td>\n      <td>0.0</td>\n      <td>0.0</td>\n    </tr>\n  </tbody>\n</table>\n<p>5 rows × 25011 columns</p>\n</div>"
     },
     "execution_count": 42,
     "metadata": {},
     "output_type": "execute_result"
    }
   ],
   "source": [
    "\n",
    "tfidf_df = pd.DataFrame(tfidf_vectroizer.transform(reactions).toarray(),columns = sorted(tfidf_vector.vocabulary_)) \n",
    "print(tfidf_df.shape)\n",
    "tfidf_df.head()"
   ],
   "metadata": {
    "collapsed": false,
    "ExecuteTime": {
     "end_time": "2024-04-05T12:18:13.979411Z",
     "start_time": "2024-04-05T12:18:13.725828Z"
    }
   },
   "execution_count": 42
  },
  {
   "cell_type": "code",
   "outputs": [
    {
     "data": {
      "text/plain": "   index           0\n0     하는  395.065606\n1     하면  353.631605\n2     해서  259.631475\n3    했는데  223.637252\n4    하는데  215.690475\n5     나도  190.924555\n6     해야  174.903293\n7     하고  172.411740\n8     보면  158.729715\n9    하는거  139.184915\n10    메소  130.232722\n11    해줘  128.616938\n12    이니  125.627458\n13    할까  120.472006\n14    되는  111.508236\n15   하면서  107.284483\n16    하기  103.332747\n17    되면   99.699587\n18   하는게   98.212455\n19    가엔   98.009280",
      "text/html": "<div>\n<style scoped>\n    .dataframe tbody tr th:only-of-type {\n        vertical-align: middle;\n    }\n\n    .dataframe tbody tr th {\n        vertical-align: top;\n    }\n\n    .dataframe thead th {\n        text-align: right;\n    }\n</style>\n<table border=\"1\" class=\"dataframe\">\n  <thead>\n    <tr style=\"text-align: right;\">\n      <th></th>\n      <th>index</th>\n      <th>0</th>\n    </tr>\n  </thead>\n  <tbody>\n    <tr>\n      <th>0</th>\n      <td>하는</td>\n      <td>395.065606</td>\n    </tr>\n    <tr>\n      <th>1</th>\n      <td>하면</td>\n      <td>353.631605</td>\n    </tr>\n    <tr>\n      <th>2</th>\n      <td>해서</td>\n      <td>259.631475</td>\n    </tr>\n    <tr>\n      <th>3</th>\n      <td>했는데</td>\n      <td>223.637252</td>\n    </tr>\n    <tr>\n      <th>4</th>\n      <td>하는데</td>\n      <td>215.690475</td>\n    </tr>\n    <tr>\n      <th>5</th>\n      <td>나도</td>\n      <td>190.924555</td>\n    </tr>\n    <tr>\n      <th>6</th>\n      <td>해야</td>\n      <td>174.903293</td>\n    </tr>\n    <tr>\n      <th>7</th>\n      <td>하고</td>\n      <td>172.411740</td>\n    </tr>\n    <tr>\n      <th>8</th>\n      <td>보면</td>\n      <td>158.729715</td>\n    </tr>\n    <tr>\n      <th>9</th>\n      <td>하는거</td>\n      <td>139.184915</td>\n    </tr>\n    <tr>\n      <th>10</th>\n      <td>메소</td>\n      <td>130.232722</td>\n    </tr>\n    <tr>\n      <th>11</th>\n      <td>해줘</td>\n      <td>128.616938</td>\n    </tr>\n    <tr>\n      <th>12</th>\n      <td>이니</td>\n      <td>125.627458</td>\n    </tr>\n    <tr>\n      <th>13</th>\n      <td>할까</td>\n      <td>120.472006</td>\n    </tr>\n    <tr>\n      <th>14</th>\n      <td>되는</td>\n      <td>111.508236</td>\n    </tr>\n    <tr>\n      <th>15</th>\n      <td>하면서</td>\n      <td>107.284483</td>\n    </tr>\n    <tr>\n      <th>16</th>\n      <td>하기</td>\n      <td>103.332747</td>\n    </tr>\n    <tr>\n      <th>17</th>\n      <td>되면</td>\n      <td>99.699587</td>\n    </tr>\n    <tr>\n      <th>18</th>\n      <td>하는게</td>\n      <td>98.212455</td>\n    </tr>\n    <tr>\n      <th>19</th>\n      <td>가엔</td>\n      <td>98.009280</td>\n    </tr>\n  </tbody>\n</table>\n</div>"
     },
     "execution_count": 43,
     "metadata": {},
     "output_type": "execute_result"
    }
   ],
   "source": [
    "tfidf_df.sum(axis=0).sort_values(ascending=False).head(20).reset_index()"
   ],
   "metadata": {
    "collapsed": false,
    "ExecuteTime": {
     "end_time": "2024-04-05T12:18:24.739033Z",
     "start_time": "2024-04-05T12:18:21.288921Z"
    }
   },
   "execution_count": 43
  },
  {
   "cell_type": "code",
   "outputs": [
    {
     "data": {
      "text/plain": "[('예쁜', 'Adjective'),\n ('히어로', 'Noun'),\n ('들', 'Suffix'),\n ('이', 'Josa'),\n ('세상', 'Noun'),\n ('에', 'Josa'),\n ('존재', 'Noun'),\n ('하지', 'Verb'),\n ('않는다는', 'Verb'),\n ('사실', 'Noun'),\n ('을', 'Josa'),\n ('깨달', 'Noun'),\n ('은', 'Josa'),\n ('것', 'Noun'),\n ('은', 'Josa'),\n ('상당히', 'Adjective'),\n ('시간', 'Noun'),\n ('이', 'Josa'),\n ('지난', 'Modifier'),\n ('뒤', 'Noun'),\n ('의', 'Josa'),\n ('일', 'Noun'),\n ('이었다', 'Verb'),\n ('.', 'Punctuation')]"
     },
     "execution_count": 44,
     "metadata": {},
     "output_type": "execute_result"
    }
   ],
   "source": [
    "okt.pos(\"예쁜 히어로들이 세상에 존재하지 않는다는 사실을 깨달은 것은 상당히 시간이 지난뒤의 일이었다.\")"
   ],
   "metadata": {
    "collapsed": false,
    "ExecuteTime": {
     "end_time": "2024-04-05T12:21:16.287819Z",
     "start_time": "2024-04-05T12:21:16.279439Z"
    }
   },
   "execution_count": 44
  },
  {
   "cell_type": "code",
   "outputs": [
    {
     "data": {
      "text/plain": "                                                URL              Date  \\\n0  https://www.inven.co.kr/board/maple/5974/2150813  2023-08-01 00:00   \n1  https://www.inven.co.kr/board/maple/5974/2150814  2023-08-01 00:00   \n2  https://www.inven.co.kr/board/maple/5974/2150815  2023-08-01 00:00   \n3  https://www.inven.co.kr/board/maple/5974/2150816  2023-08-01 00:00   \n4  https://www.inven.co.kr/board/maple/5974/2150817  2023-08-01 00:00   \n\n                                            Reaction      std_dt  Length  \\\n0  익몬 파티짜면 좀 미안하네  다 받아서 갔다가 극딜인가 까지 가서 고통받은 기억 이...  2023-08-01      94   \n1  걍 중나생문 이새끼가  개새끼임 스타포스작윗잠아랫잠추옵이게 다 고려되니까 템값이 비...  2023-08-01      77   \n2                                호호호호 똥글 이나 보세요 밥련드라  2023-08-01      19   \n3  스토리 칼로스 뭔데 이리 쎄냐 당연히 스토리니까 자빱이겠지하고 사냥셋팅 그대로 갔는...  2023-08-01     103   \n4       솔직히 가장 만렙 빠르게 찍을 것 같은 녀석 주스만 마시고 은 족히 넘겼을 녀석  2023-08-01      44   \n\n                                  Reaction_verb  \\\n0            [짜면, 받아서, 갔다가, 가서, 받은, 하는, 대, 하는데]   \n1                         [옵이게, 되니까, 였어도, 나왔을듯]   \n2                                         [보세요]   \n3  [겠지하고, 갔는데, 달더라, 쓸, 하다가, 바꿔서, 쳐야겠다, 싶어서, 나옴]   \n4                                    [마시고, 넘겼을]   \n\n                 Reaction_verb_concat       Reaction_adj Reaction_adj_concat  \n0           짜면 받아서 갔다가 가서 받은 하는 대 하는데  [미안하네, 미안해나도, 힘든]       미안하네 미안해나도 힘든  \n1                    옵이게 되니까 였어도 나왔을듯            [비싼거잖아]               비싼거잖아  \n2                                 보세요                 []                      \n3  겠지하고 갔는데 달더라 쓸 하다가 바꿔서 쳐야겠다 싶어서 나옴     [쎄냐, 당연히, 까말까]          쎄냐 당연히 까말까  \n4                             마시고 넘겼을     [솔직히, 빠르게, 같은]          솔직히 빠르게 같은  ",
      "text/html": "<div>\n<style scoped>\n    .dataframe tbody tr th:only-of-type {\n        vertical-align: middle;\n    }\n\n    .dataframe tbody tr th {\n        vertical-align: top;\n    }\n\n    .dataframe thead th {\n        text-align: right;\n    }\n</style>\n<table border=\"1\" class=\"dataframe\">\n  <thead>\n    <tr style=\"text-align: right;\">\n      <th></th>\n      <th>URL</th>\n      <th>Date</th>\n      <th>Reaction</th>\n      <th>std_dt</th>\n      <th>Length</th>\n      <th>Reaction_verb</th>\n      <th>Reaction_verb_concat</th>\n      <th>Reaction_adj</th>\n      <th>Reaction_adj_concat</th>\n    </tr>\n  </thead>\n  <tbody>\n    <tr>\n      <th>0</th>\n      <td>https://www.inven.co.kr/board/maple/5974/2150813</td>\n      <td>2023-08-01 00:00</td>\n      <td>익몬 파티짜면 좀 미안하네  다 받아서 갔다가 극딜인가 까지 가서 고통받은 기억 이...</td>\n      <td>2023-08-01</td>\n      <td>94</td>\n      <td>[짜면, 받아서, 갔다가, 가서, 받은, 하는, 대, 하는데]</td>\n      <td>짜면 받아서 갔다가 가서 받은 하는 대 하는데</td>\n      <td>[미안하네, 미안해나도, 힘든]</td>\n      <td>미안하네 미안해나도 힘든</td>\n    </tr>\n    <tr>\n      <th>1</th>\n      <td>https://www.inven.co.kr/board/maple/5974/2150814</td>\n      <td>2023-08-01 00:00</td>\n      <td>걍 중나생문 이새끼가  개새끼임 스타포스작윗잠아랫잠추옵이게 다 고려되니까 템값이 비...</td>\n      <td>2023-08-01</td>\n      <td>77</td>\n      <td>[옵이게, 되니까, 였어도, 나왔을듯]</td>\n      <td>옵이게 되니까 였어도 나왔을듯</td>\n      <td>[비싼거잖아]</td>\n      <td>비싼거잖아</td>\n    </tr>\n    <tr>\n      <th>2</th>\n      <td>https://www.inven.co.kr/board/maple/5974/2150815</td>\n      <td>2023-08-01 00:00</td>\n      <td>호호호호 똥글 이나 보세요 밥련드라</td>\n      <td>2023-08-01</td>\n      <td>19</td>\n      <td>[보세요]</td>\n      <td>보세요</td>\n      <td>[]</td>\n      <td></td>\n    </tr>\n    <tr>\n      <th>3</th>\n      <td>https://www.inven.co.kr/board/maple/5974/2150816</td>\n      <td>2023-08-01 00:00</td>\n      <td>스토리 칼로스 뭔데 이리 쎄냐 당연히 스토리니까 자빱이겠지하고 사냥셋팅 그대로 갔는...</td>\n      <td>2023-08-01</td>\n      <td>103</td>\n      <td>[겠지하고, 갔는데, 달더라, 쓸, 하다가, 바꿔서, 쳐야겠다, 싶어서, 나옴]</td>\n      <td>겠지하고 갔는데 달더라 쓸 하다가 바꿔서 쳐야겠다 싶어서 나옴</td>\n      <td>[쎄냐, 당연히, 까말까]</td>\n      <td>쎄냐 당연히 까말까</td>\n    </tr>\n    <tr>\n      <th>4</th>\n      <td>https://www.inven.co.kr/board/maple/5974/2150817</td>\n      <td>2023-08-01 00:00</td>\n      <td>솔직히 가장 만렙 빠르게 찍을 것 같은 녀석 주스만 마시고 은 족히 넘겼을 녀석</td>\n      <td>2023-08-01</td>\n      <td>44</td>\n      <td>[마시고, 넘겼을]</td>\n      <td>마시고 넘겼을</td>\n      <td>[솔직히, 빠르게, 같은]</td>\n      <td>솔직히 빠르게 같은</td>\n    </tr>\n  </tbody>\n</table>\n</div>"
     },
     "execution_count": 53,
     "metadata": {},
     "output_type": "execute_result"
    }
   ],
   "source": [
    "#okt.pos에서 Verb만 추출해서 List로 변환하는 함수 \n",
    "def cleanText(text,pos=['Verb']):\n",
    "    pos = okt.pos(text,norm = True, stem = False)\n",
    "    # tag가 verb이면, 뛰어쓰기로 하나의 Text로 연결\n",
    "    \n",
    "    verb = [word for word, tag in pos if tag in ['Adjective']]\n",
    "    return verb\n",
    "\n",
    "df['Reaction_adj'] = df.Reaction.apply(lambda x: cleanText(x))\n",
    "df['Reaction_adj_concat'] = df['Reaction_adj'].apply(lambda x: \" \".join(x))\n",
    "df.head()"
   ],
   "metadata": {
    "collapsed": false,
    "ExecuteTime": {
     "end_time": "2024-04-05T12:36:11.050371Z",
     "start_time": "2024-04-05T12:34:26.867001Z"
    }
   },
   "execution_count": 53
  },
  {
   "cell_type": "code",
   "outputs": [],
   "source": [
    "reactions = df['Reaction_adj_concat'].tolist()\n",
    "reactions[:3]\n",
    "tfidf_vectroizer = TfidfVectorizer()\n",
    "tfidf_vector = tfidf_vectroizer.fit(reactions)"
   ],
   "metadata": {
    "collapsed": false,
    "ExecuteTime": {
     "end_time": "2024-04-05T12:36:11.102852Z",
     "start_time": "2024-04-05T12:36:11.051310Z"
    }
   },
   "execution_count": 54
  },
  {
   "cell_type": "code",
   "outputs": [
    {
     "name": "stdout",
     "output_type": "stream",
     "text": [
      "(31347, 8225)\n"
     ]
    },
    {
     "data": {
      "text/plain": "   가까운  가까운거  가까운거라  가까운데  가까워  가까워서  가까웠습니다  가까히  가깝게  가깝다고  ...  힘들었지만  \\\n0  0.0   0.0    0.0   0.0  0.0   0.0     0.0  0.0  0.0   0.0  ...    0.0   \n1  0.0   0.0    0.0   0.0  0.0   0.0     0.0  0.0  0.0   0.0  ...    0.0   \n2  0.0   0.0    0.0   0.0  0.0   0.0     0.0  0.0  0.0   0.0  ...    0.0   \n3  0.0   0.0    0.0   0.0  0.0   0.0     0.0  0.0  0.0   0.0  ...    0.0   \n4  0.0   0.0    0.0   0.0  0.0   0.0     0.0  0.0  0.0   0.0  ...    0.0   \n\n   힘들잖아  힘들지  힘들지도  힘들지만   힘듦  힘듦운  힘듭니다  힘없는  힘차네  \n0   0.0  0.0   0.0   0.0  0.0  0.0   0.0  0.0  0.0  \n1   0.0  0.0   0.0   0.0  0.0  0.0   0.0  0.0  0.0  \n2   0.0  0.0   0.0   0.0  0.0  0.0   0.0  0.0  0.0  \n3   0.0  0.0   0.0   0.0  0.0  0.0   0.0  0.0  0.0  \n4   0.0  0.0   0.0   0.0  0.0  0.0   0.0  0.0  0.0  \n\n[5 rows x 8225 columns]",
      "text/html": "<div>\n<style scoped>\n    .dataframe tbody tr th:only-of-type {\n        vertical-align: middle;\n    }\n\n    .dataframe tbody tr th {\n        vertical-align: top;\n    }\n\n    .dataframe thead th {\n        text-align: right;\n    }\n</style>\n<table border=\"1\" class=\"dataframe\">\n  <thead>\n    <tr style=\"text-align: right;\">\n      <th></th>\n      <th>가까운</th>\n      <th>가까운거</th>\n      <th>가까운거라</th>\n      <th>가까운데</th>\n      <th>가까워</th>\n      <th>가까워서</th>\n      <th>가까웠습니다</th>\n      <th>가까히</th>\n      <th>가깝게</th>\n      <th>가깝다고</th>\n      <th>...</th>\n      <th>힘들었지만</th>\n      <th>힘들잖아</th>\n      <th>힘들지</th>\n      <th>힘들지도</th>\n      <th>힘들지만</th>\n      <th>힘듦</th>\n      <th>힘듦운</th>\n      <th>힘듭니다</th>\n      <th>힘없는</th>\n      <th>힘차네</th>\n    </tr>\n  </thead>\n  <tbody>\n    <tr>\n      <th>0</th>\n      <td>0.0</td>\n      <td>0.0</td>\n      <td>0.0</td>\n      <td>0.0</td>\n      <td>0.0</td>\n      <td>0.0</td>\n      <td>0.0</td>\n      <td>0.0</td>\n      <td>0.0</td>\n      <td>0.0</td>\n      <td>...</td>\n      <td>0.0</td>\n      <td>0.0</td>\n      <td>0.0</td>\n      <td>0.0</td>\n      <td>0.0</td>\n      <td>0.0</td>\n      <td>0.0</td>\n      <td>0.0</td>\n      <td>0.0</td>\n      <td>0.0</td>\n    </tr>\n    <tr>\n      <th>1</th>\n      <td>0.0</td>\n      <td>0.0</td>\n      <td>0.0</td>\n      <td>0.0</td>\n      <td>0.0</td>\n      <td>0.0</td>\n      <td>0.0</td>\n      <td>0.0</td>\n      <td>0.0</td>\n      <td>0.0</td>\n      <td>...</td>\n      <td>0.0</td>\n      <td>0.0</td>\n      <td>0.0</td>\n      <td>0.0</td>\n      <td>0.0</td>\n      <td>0.0</td>\n      <td>0.0</td>\n      <td>0.0</td>\n      <td>0.0</td>\n      <td>0.0</td>\n    </tr>\n    <tr>\n      <th>2</th>\n      <td>0.0</td>\n      <td>0.0</td>\n      <td>0.0</td>\n      <td>0.0</td>\n      <td>0.0</td>\n      <td>0.0</td>\n      <td>0.0</td>\n      <td>0.0</td>\n      <td>0.0</td>\n      <td>0.0</td>\n      <td>...</td>\n      <td>0.0</td>\n      <td>0.0</td>\n      <td>0.0</td>\n      <td>0.0</td>\n      <td>0.0</td>\n      <td>0.0</td>\n      <td>0.0</td>\n      <td>0.0</td>\n      <td>0.0</td>\n      <td>0.0</td>\n    </tr>\n    <tr>\n      <th>3</th>\n      <td>0.0</td>\n      <td>0.0</td>\n      <td>0.0</td>\n      <td>0.0</td>\n      <td>0.0</td>\n      <td>0.0</td>\n      <td>0.0</td>\n      <td>0.0</td>\n      <td>0.0</td>\n      <td>0.0</td>\n      <td>...</td>\n      <td>0.0</td>\n      <td>0.0</td>\n      <td>0.0</td>\n      <td>0.0</td>\n      <td>0.0</td>\n      <td>0.0</td>\n      <td>0.0</td>\n      <td>0.0</td>\n      <td>0.0</td>\n      <td>0.0</td>\n    </tr>\n    <tr>\n      <th>4</th>\n      <td>0.0</td>\n      <td>0.0</td>\n      <td>0.0</td>\n      <td>0.0</td>\n      <td>0.0</td>\n      <td>0.0</td>\n      <td>0.0</td>\n      <td>0.0</td>\n      <td>0.0</td>\n      <td>0.0</td>\n      <td>...</td>\n      <td>0.0</td>\n      <td>0.0</td>\n      <td>0.0</td>\n      <td>0.0</td>\n      <td>0.0</td>\n      <td>0.0</td>\n      <td>0.0</td>\n      <td>0.0</td>\n      <td>0.0</td>\n      <td>0.0</td>\n    </tr>\n  </tbody>\n</table>\n<p>5 rows × 8225 columns</p>\n</div>"
     },
     "execution_count": 55,
     "metadata": {},
     "output_type": "execute_result"
    }
   ],
   "source": [
    "tfidf_df = pd.DataFrame(tfidf_vectroizer.transform(reactions).toarray(),columns = sorted(tfidf_vector.vocabulary_)) \n",
    "print(tfidf_df.shape)\n",
    "tfidf_df.head()"
   ],
   "metadata": {
    "collapsed": false,
    "ExecuteTime": {
     "end_time": "2024-04-05T12:36:11.206865Z",
     "start_time": "2024-04-05T12:36:11.103678Z"
    }
   },
   "execution_count": 55
  },
  {
   "cell_type": "code",
   "outputs": [
    {
     "data": {
      "text/plain": "   index           0\n0    어떻게  417.660432\n1     아님  411.496365\n2    같은데  409.651655\n3     아니  315.914852\n4     있음  297.440620\n5     같은  294.582114\n6     같음  277.510195\n7     있는  237.639757\n8    입니다  220.258629\n9    아니면  219.259115\n10    좋은  198.026863\n11    없음  184.938121\n12   있는데  181.846276\n13   솔직히  179.620350\n14    검마  179.454782\n15    없는  173.977423\n16    그럼  157.222732\n17   아니라  140.190799\n18    이런  133.937505\n19   좋겠다  130.711747",
      "text/html": "<div>\n<style scoped>\n    .dataframe tbody tr th:only-of-type {\n        vertical-align: middle;\n    }\n\n    .dataframe tbody tr th {\n        vertical-align: top;\n    }\n\n    .dataframe thead th {\n        text-align: right;\n    }\n</style>\n<table border=\"1\" class=\"dataframe\">\n  <thead>\n    <tr style=\"text-align: right;\">\n      <th></th>\n      <th>index</th>\n      <th>0</th>\n    </tr>\n  </thead>\n  <tbody>\n    <tr>\n      <th>0</th>\n      <td>어떻게</td>\n      <td>417.660432</td>\n    </tr>\n    <tr>\n      <th>1</th>\n      <td>아님</td>\n      <td>411.496365</td>\n    </tr>\n    <tr>\n      <th>2</th>\n      <td>같은데</td>\n      <td>409.651655</td>\n    </tr>\n    <tr>\n      <th>3</th>\n      <td>아니</td>\n      <td>315.914852</td>\n    </tr>\n    <tr>\n      <th>4</th>\n      <td>있음</td>\n      <td>297.440620</td>\n    </tr>\n    <tr>\n      <th>5</th>\n      <td>같은</td>\n      <td>294.582114</td>\n    </tr>\n    <tr>\n      <th>6</th>\n      <td>같음</td>\n      <td>277.510195</td>\n    </tr>\n    <tr>\n      <th>7</th>\n      <td>있는</td>\n      <td>237.639757</td>\n    </tr>\n    <tr>\n      <th>8</th>\n      <td>입니다</td>\n      <td>220.258629</td>\n    </tr>\n    <tr>\n      <th>9</th>\n      <td>아니면</td>\n      <td>219.259115</td>\n    </tr>\n    <tr>\n      <th>10</th>\n      <td>좋은</td>\n      <td>198.026863</td>\n    </tr>\n    <tr>\n      <th>11</th>\n      <td>없음</td>\n      <td>184.938121</td>\n    </tr>\n    <tr>\n      <th>12</th>\n      <td>있는데</td>\n      <td>181.846276</td>\n    </tr>\n    <tr>\n      <th>13</th>\n      <td>솔직히</td>\n      <td>179.620350</td>\n    </tr>\n    <tr>\n      <th>14</th>\n      <td>검마</td>\n      <td>179.454782</td>\n    </tr>\n    <tr>\n      <th>15</th>\n      <td>없는</td>\n      <td>173.977423</td>\n    </tr>\n    <tr>\n      <th>16</th>\n      <td>그럼</td>\n      <td>157.222732</td>\n    </tr>\n    <tr>\n      <th>17</th>\n      <td>아니라</td>\n      <td>140.190799</td>\n    </tr>\n    <tr>\n      <th>18</th>\n      <td>이런</td>\n      <td>133.937505</td>\n    </tr>\n    <tr>\n      <th>19</th>\n      <td>좋겠다</td>\n      <td>130.711747</td>\n    </tr>\n  </tbody>\n</table>\n</div>"
     },
     "execution_count": 56,
     "metadata": {},
     "output_type": "execute_result"
    }
   ],
   "source": [
    "tfidf_df.sum(axis=0).sort_values(ascending=False).head(20).reset_index()"
   ],
   "metadata": {
    "collapsed": false,
    "ExecuteTime": {
     "end_time": "2024-04-05T12:36:12.324387Z",
     "start_time": "2024-04-05T12:36:11.208137Z"
    }
   },
   "execution_count": 56
  },
  {
   "cell_type": "code",
   "outputs": [
    {
     "data": {
      "text/plain": "array([[<Axes: title={'center': 'Length'}>]], dtype=object)"
     },
     "execution_count": 64,
     "metadata": {},
     "output_type": "execute_result"
    },
    {
     "data": {
      "text/plain": "<Figure size 640x480 with 1 Axes>",
      "image/png": "[encoded data removed]"
     },
     "metadata": {},
     "output_type": "display_data"
    }
   ],
   "source": [
    "df.loc[df['Length'] <= 400,['Length']].hist()"
   ],
   "metadata": {
    "collapsed": false,
    "ExecuteTime": {
     "end_time": "2024-04-05T12:40:12.659829Z",
     "start_time": "2024-04-05T12:40:12.584780Z"
    }
   },
   "execution_count": 64
  },
  {
   "cell_type": "code",
   "outputs": [
    {
     "data": {
      "text/plain": "count    31347.000000\nmean        57.196319\nstd        158.626280\nmin          2.000000\n25%         23.000000\n50%         38.000000\n75%         64.000000\nmax      22753.000000\nName: Length, dtype: float64"
     },
     "execution_count": 65,
     "metadata": {},
     "output_type": "execute_result"
    }
   ],
   "source": [
    "df['Length'].describe()"
   ],
   "metadata": {
    "collapsed": false,
    "ExecuteTime": {
     "end_time": "2024-04-05T12:40:29.092566Z",
     "start_time": "2024-04-05T12:40:29.088139Z"
    }
   },
   "execution_count": 65
  },
  {
   "cell_type": "code",
   "outputs": [
    {
     "data": {
      "text/plain": "0.25     23.0\n0.50     38.0\n0.75     64.0\n0.90    106.0\n0.95    148.0\n0.99    318.0\nName: Length, dtype: float64"
     },
     "execution_count": 68,
     "metadata": {},
     "output_type": "execute_result"
    }
   ],
   "source": [
    "df['Length'].quantile([0.25,0.5,0.75,0.9,0.95,0.99])"
   ],
   "metadata": {
    "collapsed": false,
    "ExecuteTime": {
     "end_time": "2024-04-05T12:41:52.573064Z",
     "start_time": "2024-04-05T12:41:52.569363Z"
    }
   },
   "execution_count": 68
  },
  {
   "cell_type": "code",
   "outputs": [],
   "source": [],
   "metadata": {
    "collapsed": false
   }
  }
 ],
 "metadata": {
  "kernelspec": {
   "display_name": "commitshelter",
   "language": "python",
   "name": "python3"
  },
  "language_info": {
   "codemirror_mode": {
    "name": "ipython",
    "version": 3
   },
   "file_extension": ".py",
   "mimetype": "text/x-python",
   "name": "python",
   "nbconvert_exporter": "python",
   "pygments_lexer": "ipython3",
   "version": "3.9.16"
  },
  "orig_nbformat": 4
 },
 "nbformat": 4,
 "nbformat_minor": 2
}
