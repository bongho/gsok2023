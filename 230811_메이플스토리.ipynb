{
 "cells": [
  {
   "cell_type": "code",
   "execution_count": 1,
   "metadata": {},
   "outputs": [],
   "source": [
    "from bs4 import BeautifulSoup\n",
    "from urllib.request import urlopen\n",
    "import re\n",
    "from datetime import datetime\n",
    "from urllib.error import HTTPError\n",
    "import pandas as pd\n",
    "import time"
   ]
  },
  {
   "cell_type": "code",
   "execution_count": 2,
   "metadata": {},
   "outputs": [],
   "source": [
    "def mk_df(start, end):\n",
    "\n",
    "    # df = pd.DataFrame(columns=['Date', 'Reaction'])\n",
    "    # result_dict = {'URL': [],'Date':[], 'Reaction':[]}\n",
    "    result_dict = {'URL': [],'Date':[], 'Reaction':[]}\n",
    "\n",
    "    for i in range(start, end):\n",
    "        url = f\"https://www.inven.co.kr/board/maple/5974/{i}\"\n",
    "\n",
    "        time.sleep(1)\n",
    "        try:\n",
    "            html = urlopen(url)\n",
    "        except Exception as e:\n",
    "            pass\n",
    "            \n",
    "            soup = BeautifulSoup(html, \"html.parser\")\n",
    "\n",
    "            for dates in soup.find_all('div', attrs={\"class\":\"articleDate\"}):\n",
    "                date = dates.text.strip()\n",
    "\n",
    "            for titles in soup.find_all('div', attrs={\"class\":\"articleTitle\"}):\n",
    "                title = titles.text.strip()\n",
    "\n",
    "            content_divs = soup.find_all('div', attrs={\"id\": \"powerbbsContent\"})\n",
    "            if len(content_divs) > 0:\n",
    "                content = content_divs[0].text.strip()\n",
    "\n",
    "            reaction = title + ' ' + content\n",
    "        \n",
    "            result_dict['URL'].append(url)\n",
    "            result_dict['Date'].append(date)\n",
    "            result_dict['Reaction'].append(reaction)\n",
    "\n",
    "\n",
    "            if (i - start) % 10 == 0:\n",
    "                print(f\"{(i - start)} 페이지 크롤링중입니다.\")\n",
    "       \n",
    "        \n",
    "\n",
    "    return pd.DataFrame.from_dict(result_dict)"
   ]
  },
  {
   "cell_type": "code",
   "execution_count": 3,
   "metadata": {},
   "outputs": [],
   "source": [
    "# # df = mk_df(1845251, 2150812)    #1845251(7/1) ~ 2150812(7/31)\n",
    "# # df= mk_df(2150813, 2202552)\n",
    "# # df = mk_df(2150813, 2187782)\n",
    "# #2150813(230801) ~ 2202552(230807)\n",
    "# df = mk_df(2187782, 2202552)\n",
    "\n",
    "# df['Reaction'] = df['Reaction'].str.replace(\"\\udffb\", \"\")\n",
    "# file_name = datetime.now().strftime(\"%y%m%d_%H%M%S\") + \"-MaplyStory.csv\"\n",
    "# df.to_csv(f\"./{file_name}\", index=False)                                              # 데이터프레임을 CSV 파일로 저장"
   ]
  },
  {
   "cell_type": "code",
   "execution_count": 4,
   "metadata": {},
   "outputs": [
    {
     "name": "stdout",
     "output_type": "stream",
     "text": [
      "(122, 3) (27765, 3) (3414, 3) (122, 3)\n"
     ]
    }
   ],
   "source": [
    "df_a = pd.read_csv(\"./230813_052059-MaplyStory.csv\")\n",
    "df_b = pd.read_csv(\"./230813_071056-MaplyStory.csv\")\n",
    "df_c = pd.read_csv(\"./230813_133328-MaplyStory.csv\")\n",
    "df_d = pd.read_csv(\"./20230813_크롤링.csv\")\n",
    "print(df_a.shape,df_b.shape,df_c.shape,df_d.shape)\n",
    "                   "
   ]
  },
  {
   "cell_type": "code",
   "execution_count": 6,
   "metadata": {},
   "outputs": [
    {
     "name": "stdout",
     "output_type": "stream",
     "text": [
      "(31423, 3)\n"
     ]
    },
    {
     "data": {
      "text/html": [
       "<div>\n",
       "<style scoped>\n",
       "    .dataframe tbody tr th:only-of-type {\n",
       "        vertical-align: middle;\n",
       "    }\n",
       "\n",
       "    .dataframe tbody tr th {\n",
       "        vertical-align: top;\n",
       "    }\n",
       "\n",
       "    .dataframe thead th {\n",
       "        text-align: right;\n",
       "    }\n",
       "</style>\n",
       "<table border=\"1\" class=\"dataframe\">\n",
       "  <thead>\n",
       "    <tr style=\"text-align: right;\">\n",
       "      <th></th>\n",
       "      <th>URL</th>\n",
       "      <th>Date</th>\n",
       "      <th>Reaction</th>\n",
       "    </tr>\n",
       "  </thead>\n",
       "  <tbody>\n",
       "    <tr>\n",
       "      <th>0</th>\n",
       "      <td>https://www.inven.co.kr/board/maple/5974/2150813</td>\n",
       "      <td>2023-08-01 00:00</td>\n",
       "      <td>익몬 파티짜면 좀 미안하네 260 다 받아서 갔다가 4극딜인가 까지 가서 고통받은 ...</td>\n",
       "    </tr>\n",
       "    <tr>\n",
       "      <th>1</th>\n",
       "      <td>https://www.inven.co.kr/board/maple/5974/2150814</td>\n",
       "      <td>2023-08-01 00:00</td>\n",
       "      <td>걍 5중나생문&lt; 이새끼가 ㄹㅇ 개새끼임 스타포스작윗잠아랫잠추옵이게 다 고려되니까 템...</td>\n",
       "    </tr>\n",
       "    <tr>\n",
       "      <th>2</th>\n",
       "      <td>https://www.inven.co.kr/board/maple/5974/2150815</td>\n",
       "      <td>2023-08-01 00:00</td>\n",
       "      <td>호호호호 똥글 이나 보세요 ㅈ밥련드라</td>\n",
       "    </tr>\n",
       "    <tr>\n",
       "      <th>3</th>\n",
       "      <td>https://www.inven.co.kr/board/maple/5974/2150816</td>\n",
       "      <td>2023-08-01 00:00</td>\n",
       "      <td>스토리 칼로스 뭔데 이리 쎄냐? 당연히 스토리니까 자빱이겠지하고 사냥셋팅 그대로 갔...</td>\n",
       "    </tr>\n",
       "    <tr>\n",
       "      <th>4</th>\n",
       "      <td>https://www.inven.co.kr/board/maple/5974/2150817</td>\n",
       "      <td>2023-08-01 00:00</td>\n",
       "      <td>솔직히 가장 만렙 빠르게 찍을 것 같은 녀석 주스만 마시고 280은 족히 넘겼을 녀석..</td>\n",
       "    </tr>\n",
       "  </tbody>\n",
       "</table>\n",
       "</div>"
      ],
      "text/plain": [
       "                                                URL              Date  \\\n",
       "0  https://www.inven.co.kr/board/maple/5974/2150813  2023-08-01 00:00   \n",
       "1  https://www.inven.co.kr/board/maple/5974/2150814  2023-08-01 00:00   \n",
       "2  https://www.inven.co.kr/board/maple/5974/2150815  2023-08-01 00:00   \n",
       "3  https://www.inven.co.kr/board/maple/5974/2150816  2023-08-01 00:00   \n",
       "4  https://www.inven.co.kr/board/maple/5974/2150817  2023-08-01 00:00   \n",
       "\n",
       "                                            Reaction  \n",
       "0  익몬 파티짜면 좀 미안하네 260 다 받아서 갔다가 4극딜인가 까지 가서 고통받은 ...  \n",
       "1  걍 5중나생문< 이새끼가 ㄹㅇ 개새끼임 스타포스작윗잠아랫잠추옵이게 다 고려되니까 템...  \n",
       "2                               호호호호 똥글 이나 보세요 ㅈ밥련드라  \n",
       "3  스토리 칼로스 뭔데 이리 쎄냐? 당연히 스토리니까 자빱이겠지하고 사냥셋팅 그대로 갔...  \n",
       "4  솔직히 가장 만렙 빠르게 찍을 것 같은 녀석 주스만 마시고 280은 족히 넘겼을 녀석..  "
      ]
     },
     "execution_count": 6,
     "metadata": {},
     "output_type": "execute_result"
    }
   ],
   "source": [
    "df = pd.concat([df_a,df_b,df_c,df_d],axis=0)\n",
    "print(df.shape)\n",
    "df.head()"
   ]
  },
  {
   "cell_type": "code",
   "execution_count": 15,
   "metadata": {},
   "outputs": [
    {
     "data": {
      "text/plain": [
       "2023-08-03    7929\n",
       "2023-08-04    6008\n",
       "2023-08-01    5476\n",
       "2023-08-02    4795\n",
       "2023-08-05    4199\n",
       "2023-08-07    1558\n",
       "2023-08-06    1458\n",
       "Name: std_dt, dtype: int64"
      ]
     },
     "execution_count": 15,
     "metadata": {},
     "output_type": "execute_result"
    }
   ],
   "source": [
    "# 일자 확인\n",
    "df['std_dt'] = df['Date'].str.extract('(\\d{4}-\\d{2}-\\d{2})')\n",
    "df['std_dt'].value_counts()"
   ]
  },
  {
   "cell_type": "code",
   "execution_count": 16,
   "metadata": {},
   "outputs": [],
   "source": [
    "df.to_csv(\"./230814-MapleStory.csv\", index=False, encoding=\"utf-8-sig\")\n"
   ]
  },
  {
   "cell_type": "code",
   "execution_count": null,
   "metadata": {},
   "outputs": [],
   "source": []
  }
 ],
 "metadata": {
  "kernelspec": {
   "display_name": "commitshelter",
   "language": "python",
   "name": "python3"
  },
  "language_info": {
   "codemirror_mode": {
    "name": "ipython",
    "version": 3
   },
   "file_extension": ".py",
   "mimetype": "text/x-python",
   "name": "python",
   "nbconvert_exporter": "python",
   "pygments_lexer": "ipython3",
   "version": "3.9.16"
  },
  "orig_nbformat": 4
 },
 "nbformat": 4,
 "nbformat_minor": 2
}
